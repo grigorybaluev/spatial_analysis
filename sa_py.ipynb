
# coding: utf-8

# # ТЕХНОЛОГИИ АНАЛИЗА ПРОСТРАНСТВА
# <hr style="height:2px;border:none;color:stillblue;background-color:black;" />

# ## АНАЛИЗ ПЛАНА ПОМЕЩЕНИЯ

# <hr style="height:2px;border:none;color:stillblue;background-color:black;" />

# #### DeCodingSpaces
# 
# http://decodingspaces.de/
# 
# https://vimeo.com/user2925067
# 
# https://vimeo.com/user5409119
# 
# софт пространственного анализа

# In[27]:


from IPython.display import VimeoVideo
VimeoVideo('89392450',width=700, height=600)


# <hr style="height:2px;border:none;color:stillblue;background-color:black;" />

# #### ETH ArchTec Lab
# 

# In[21]:


from IPython.display import YouTubeVideo
YouTubeVideo('ULMF8NO5vQM',width=900, height=600)


# <hr style="height:2px;border:none;color:stillblue;background-color:black;" />

# #### Autodesk University Research - Autodesk Office Toronto
# 
# http://autodesk.typepad.com/bimtoolbox/2017/06/generative-design-applied-on-buildings.html
# 
# https://www.youtube.com/watch?v=TmAY6qycBsk
# 
# https://medium.com/autodesk-university/generative-design-for-architectural-space-planning-9f82cf5dcdc0
# 

# In[23]:


from IPython.display import VimeoVideo
VimeoVideo('193915345',width=900, height=600)


# ### СТИЛЬ РАБОТЫ

# ### СТЕПЕНЬ ОТВЛЕКАНИЯ

# ### ВИД НА УЛИЦУ

# ### СВЯЗНОСТЬ

# ### СОСЕДСТВО (ПРЕДПОЧТЕНИЕ)

# ### СВЕТ ИЗ ОКОН

# ##### СОЛНЕЧНАЯ ИНСОЛЯЦИЯ

# ##### ЕСТЕСТВЕННОЕ ОСВЕЩЕНИЕ

# <hr style="height:2px;border:none;color:stillblue;background-color:black;" />

# ### АНАЛИЗ СЕРДЕЧНОГО РИТМА 

# надо почитать
# 
# http://med88.ru/kardiologija/diagnostika/holter/

# <hr style="height:4px;border:none;color:stillblue;background-color:black;" />

# # ГЕНЕРАЦИЯ БЕСКОНЕЧНОСТИ

# #### MONSTROCITY
# 
# http://mariasni.com/project/monstocity/
# http://www.mas.caad.arch.ethz.ch/blog/grammar-machines/index.html
# 
# РЕЗУЛЬТАТ ТРЁХДНЕВНОГО ВОРКШОПА: ПРИМИНЕНИЕ МЕТОДОВ Shape Grammar В Processing

# In[10]:


from IPython.display import VimeoVideo
VimeoVideo('54754817',width=1000, height=600)


# <hr style="height:2px;border:none;color:stillblue;background-color:black;" />

# #### CITY ENGINE
# 
# http://www.esri.com/software/cityengine
# 
# СОФТ, СОЗДАННЫЙ ДЛЯ ГЕНЕРАЦИИ ГОРОДСКОГО ЛАНДШАФТА В ИГРАХ И ФИЛЬМАХ
# СЕЙЧАС ИСПОЛЬЗУЕТСЯ ДЛЯ ГОРОДСКОГО АНАЛИЗА, МОДЕЛИРОВАНИЯ, ВИЗУАЛИЗАЦИИ... ПРОДАЖИ ГОРОДОВ

# In[5]:


from IPython.display import YouTubeVideo
YouTubeVideo('aFRqSJFp-I0',width=1000, height=600)


# <hr style="height:2px;border:none;color:stillblue;background-color:black;" />

# #### LUMION_8
# 
# https://lumion.com/
# 
# ТОПОВЫЙ РЕНДЕРЕР

# In[14]:


from IPython.display import YouTubeVideo
YouTubeVideo('N5TLwzDAaf4',width=900, height=600)


# <hr style="height:2px;border:none;color:stillblue;background-color:black;" />

# #### HOME DESIGNER
# 
# https://www.homedesignersoftware.com/
# 
# DIY СОФТ МОДЕЛИРОВАНИЯ ЗДАНИЙ

# In[16]:


from IPython.display import YouTubeVideo
YouTubeVideo('YEH_EuNcFdQ',width=900, height=600)


# <hr style="height:2px;border:none;color:stillblue;background-color:black;" />
